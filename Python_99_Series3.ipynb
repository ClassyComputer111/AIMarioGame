{
  "nbformat": 4,
  "nbformat_minor": 0,
  "metadata": {
    "colab": {
      "name": "Python 99 Series3",
      "provenance": [],
      "collapsed_sections": [],
      "authorship_tag": "ABX9TyNJLvpAiRZEPovvZTANO4sl",
      "include_colab_link": true
    },
    "kernelspec": {
      "name": "python3",
      "display_name": "Python 3"
    },
    "language_info": {
      "name": "python"
    }
  },
  "cells": [
    {
      "cell_type": "markdown",
      "metadata": {
        "id": "view-in-github",
        "colab_type": "text"
      },
      "source": [
        "<a href=\"https://colab.research.google.com/github/ClassyComputer111/PythonStarting/blob/main/Python_99_Series3.ipynb\" target=\"_parent\"><img src=\"https://colab.research.google.com/assets/colab-badge.svg\" alt=\"Open In Colab\"/></a>"
      ]
    },
    {
      "cell_type": "code",
      "execution_count": 7,
      "metadata": {
        "colab": {
          "base_uri": "https://localhost:8080/"
        },
        "id": "IKeKz9YP8RI8",
        "outputId": "a26bb810-d787-4935-a02c-5e3605152f65"
      },
      "outputs": [
        {
          "output_type": "stream",
          "name": "stdout",
          "text": [
            "Enter your name :Tuesday\n",
            "T * * * * * * \n",
            "* u * * * * * \n",
            "* * e * * * * \n",
            "* * * s * * * \n",
            "* * * * d * * \n",
            "* * * * * a * \n",
            "* * * * * * y \n"
          ]
        }
      ],
      "source": [
        "name = input(\"Enter your name :\") \n",
        "iteration = len(name)\n",
        "for i in range (0,iteration):\n",
        "    # inner loop\n",
        "    for j in range(0,iteration):\n",
        "      if i==j:\n",
        "        print(name[j],sep=\" \",end=\" \")\n",
        "      else :\n",
        "        print(\"*\",sep=\" \",end=\" \")\n",
        "        \n",
        "    print()\n"
      ]
    }
  ]
}