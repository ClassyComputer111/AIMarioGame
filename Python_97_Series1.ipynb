{
  "nbformat": 4,
  "nbformat_minor": 0,
  "metadata": {
    "colab": {
      "name": "Python 97 Series1",
      "provenance": [],
      "collapsed_sections": [],
      "authorship_tag": "ABX9TyO685vesJoFKs7KOMyxzkE8",
      "include_colab_link": true
    },
    "kernelspec": {
      "name": "python3",
      "display_name": "Python 3"
    },
    "language_info": {
      "name": "python"
    }
  },
  "cells": [
    {
      "cell_type": "markdown",
      "metadata": {
        "id": "view-in-github",
        "colab_type": "text"
      },
      "source": [
        "<a href=\"https://colab.research.google.com/github/ClassyComputer111/PythonStarting/blob/main/Python_97_Series1.ipynb\" target=\"_parent\"><img src=\"https://colab.research.google.com/assets/colab-badge.svg\" alt=\"Open In Colab\"/></a>"
      ]
    },
    {
      "cell_type": "code",
      "execution_count": 14,
      "metadata": {
        "colab": {
          "base_uri": "https://localhost:8080/"
        },
        "id": "efJ3yWe3qSI8",
        "outputId": "f4a96ab1-fece-4839-f554-ee75fac8e405"
      },
      "outputs": [
        {
          "output_type": "stream",
          "name": "stdout",
          "text": [
            "enter the year1999\n",
            "The given year is not a leap year\n"
          ]
        }
      ],
      "source": [
        "year = int(input(\"enter the year\"))\n",
        "# checking whether the year is a leap year or not\n",
        "def change(year):\n",
        "   if (year % 4 == 0 and year % 100 !=0 or year % 400==0) :\n",
        "     print(\"The given year is a leap year\")\n",
        "   else:\n",
        "     print(\"The given year is not a leap year\")\n",
        "# calling the function\n",
        "change(year)\n"
      ]
    }
  ]
}