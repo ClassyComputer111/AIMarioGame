{
  "nbformat": 4,
  "nbformat_minor": 0,
  "metadata": {
    "colab": {
      "name": "Python 98 Series2",
      "provenance": [],
      "collapsed_sections": [],
      "authorship_tag": "ABX9TyPx/VdNzKE5AX67ZPqvwnXw",
      "include_colab_link": true
    },
    "kernelspec": {
      "name": "python3",
      "display_name": "Python 3"
    },
    "language_info": {
      "name": "python"
    }
  },
  "cells": [
    {
      "cell_type": "markdown",
      "metadata": {
        "id": "view-in-github",
        "colab_type": "text"
      },
      "source": [
        "<a href=\"https://colab.research.google.com/github/ClassyComputer111/PythonStarting/blob/main/Python_98_Series2.ipynb\" target=\"_parent\"><img src=\"https://colab.research.google.com/assets/colab-badge.svg\" alt=\"Open In Colab\"/></a>"
      ]
    },
    {
      "cell_type": "code",
      "execution_count": 3,
      "metadata": {
        "colab": {
          "base_uri": "https://localhost:8080/"
        },
        "id": "j-A5AF2G5o_c",
        "outputId": "13c96e47-67fe-40e5-8718-1ee3fae177f1"
      },
      "outputs": [
        {
          "output_type": "stream",
          "name": "stdout",
          "text": [
            "Enter the lower range limit :3\n",
            "Enter the upper range limit :30\n",
            "Enter the number to be divided by:4\n",
            "4\n",
            "8\n",
            "12\n",
            "16\n",
            "20\n",
            "24\n",
            "28\n"
          ]
        }
      ],
      "source": [
        "lowerlimit = int(input(\"Enter the lower range limit :\"))\n",
        "upperlimit = int(input(\"Enter the upper range limit :\"))\n",
        "number = int(input(\"Enter the number to be divided by:\"))\n",
        "\n",
        "for i in range(lowerlimit,upperlimit+1):\n",
        "    if(i % number == 0):\n",
        "       print(i)\n",
        "\n"
      ]
    }
  ]
}